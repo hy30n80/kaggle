{
  "nbformat": 4,
  "nbformat_minor": 0,
  "metadata": {
    "colab": {
      "provenance": [],
      "collapsed_sections": [],
      "mount_file_id": "1-EERreEU14BKVCQpF2xjhTlG6LhjUeUE",
      "authorship_tag": "ABX9TyOzb71Gex61KWlWZo88Znoc",
      "include_colab_link": true
    },
    "kernelspec": {
      "name": "python3",
      "display_name": "Python 3"
    },
    "language_info": {
      "name": "python"
    }
  },
  "cells": [
    {
      "cell_type": "markdown",
      "metadata": {
        "id": "view-in-github",
        "colab_type": "text"
      },
      "source": [
        "<a href=\"https://colab.research.google.com/github/hy30n80/kaggle/blob/main/TPS_September.ipynb\" target=\"_parent\"><img src=\"https://colab.research.google.com/assets/colab-badge.svg\" alt=\"Open In Colab\"/></a>"
      ]
    },
    {
      "cell_type": "code",
      "execution_count": null,
      "metadata": {
        "id": "bmX0RhvpvFCU"
      },
      "outputs": [],
      "source": [
        "import csv\n",
        "import numpy as np\n",
        "import pandas as pd\n",
        "import tensorflow as tf\n",
        "import os\n",
        "import matplotlib.pyplot as plt\n",
        "from sklearn import preprocessing"
      ]
    },
    {
      "cell_type": "code",
      "source": [
        "train_path='./drive/MyDrive/TPS9/train.csv'\n",
        "\n",
        "\n",
        "train = pd.read_csv(train_path)\n",
        "train.drop('row_id', axis=1, inplace=True)\n",
        "\n",
        "train_x = train.loc[:,'date':'product']\n",
        "train_y = train.loc[:,'num_sold']\n",
        "\n",
        "values = train_x.values\n",
        "encoder= preprocessing.LabelEncoder()\n",
        "scaler = preprocessing.MinMaxScaler(feature_range=(0,1))\n",
        "\n",
        "values[:,0]=encoder.fit_transform(values[:,0])\n",
        "values[:,1]=encoder.fit_transform(values[:,1])\n",
        "values[:,2]=encoder.fit_transform(values[:,2])\n",
        "values[:,3]=encoder.fit_transform(values[:,3])\n",
        "\n",
        "values=values.astype('float32')\n",
        "scaled = scaler.fit_transform(values)\n",
        "scaled[:,0]= scaled[:,0]%0.25\n",
        "train_x= pd.DataFrame(scaled)\n",
        "\n",
        "train_x=np.array(train_x)\n",
        "train_y=np.array(train_y)\n",
        "\n",
        "train_x.shape\n"
      ],
      "metadata": {
        "colab": {
          "base_uri": "https://localhost:8080/"
        },
        "id": "hJM1QOE5vJow",
        "outputId": "554171a4-6b31-406c-ecf4-48a22c8af646"
      },
      "execution_count": null,
      "outputs": [
        {
          "output_type": "execute_result",
          "data": {
            "text/plain": [
              "(70128, 4)"
            ]
          },
          "metadata": {},
          "execution_count": 84
        }
      ]
    },
    {
      "cell_type": "code",
      "source": [
        "test_path='./drive/MyDrive/TPS9/test.csv'\n",
        "test = pd.read_csv(test_path)\n",
        "\n",
        "test.drop('row_id', axis=1, inplace=True)\n",
        "\n",
        "test_x = test.loc[:,'date':'product']\n",
        "\n",
        "values = test_x.values\n",
        "encoder= preprocessing.LabelEncoder()\n",
        "scaler = preprocessing.MinMaxScaler(feature_range=(0,1))\n",
        "\n",
        "values[:,0]=encoder.fit_transform(values[:,0])\n",
        "values[:,1]=encoder.fit_transform(values[:,1])\n",
        "values[:,2]=encoder.fit_transform(values[:,2])\n",
        "values[:,3]=encoder.fit_transform(values[:,3])\n",
        "\n",
        "values=values.astype('float32')\n",
        "scaled = scaler.fit_transform(values)\n",
        "scaled[:,0]= scaled[:,0]%0.25\n",
        "test_x= pd.DataFrame(scaled)\n",
        "\n",
        "test_x=np.array(test_x)\n",
        "\n",
        "test_x.shape"
      ],
      "metadata": {
        "colab": {
          "base_uri": "https://localhost:8080/"
        },
        "id": "ShUEMwq_bdNB",
        "outputId": "dc9df184-8a56-4e2f-ddc0-51f57864ea53"
      },
      "execution_count": null,
      "outputs": [
        {
          "output_type": "execute_result",
          "data": {
            "text/plain": [
              "(17520, 4)"
            ]
          },
          "metadata": {},
          "execution_count": 85
        }
      ]
    },
    {
      "cell_type": "code",
      "source": [
        "model = tf.keras.Sequential([\n",
        "    tf.keras.layers.Flatten(),\n",
        "    tf.keras.layers.Dense(128, input_shape=[4], activation='relu'),\n",
        "    tf.keras.layers.Dense(64, activation= 'relu'),\n",
        "    tf.keras.layers.Dense(32, activation= 'relu'),\n",
        "    tf.keras.layers.Dense(16, activation = 'relu'),\n",
        "    tf.keras.layers.Dense(1, activation = 'sigmoid'),\n",
        "    tf.keras.layers.Lambda(lambda x: x * 1000)\n",
        "])\n",
        "\n",
        "lr_schedule = tf.keras.callbacks.LearningRateScheduler(\n",
        "    lambda epoch: 1e-8 * 10**(epoch / 20))\n",
        "optimizer = tf.keras.optimizers.SGD(learning_rate=1e-8, momentum=0.9)\n",
        "model.compile(optimizer=optimizer, loss=tf.keras.losses.Huber(), metrics=['mae'])\n",
        "\n",
        "model.fit(train_x, train_y, epochs=100, callbacks=[lr_schedule])"
      ],
      "metadata": {
        "colab": {
          "base_uri": "https://localhost:8080/"
        },
        "id": "PYWV4p0JTavj",
        "outputId": "8e3373c8-945d-4ba0-cd0f-72c0384bb8f9"
      },
      "execution_count": null,
      "outputs": [
        {
          "output_type": "stream",
          "name": "stdout",
          "text": [
            "Epoch 1/100\n",
            "2192/2192 [==============================] - 4s 2ms/step - loss: 299.2785 - mae: 299.7784 - lr: 1.0000e-08\n",
            "Epoch 2/100\n",
            "2192/2192 [==============================] - 4s 2ms/step - loss: 266.7973 - mae: 267.2971 - lr: 1.1220e-08\n",
            "Epoch 3/100\n",
            "2192/2192 [==============================] - 4s 2ms/step - loss: 234.2370 - mae: 234.7367 - lr: 1.2589e-08\n",
            "Epoch 4/100\n",
            "2192/2192 [==============================] - 4s 2ms/step - loss: 199.6564 - mae: 200.1559 - lr: 1.4125e-08\n",
            "Epoch 5/100\n",
            "2192/2192 [==============================] - 3s 2ms/step - loss: 167.3563 - mae: 167.8558 - lr: 1.5849e-08\n",
            "Epoch 6/100\n",
            "2192/2192 [==============================] - 4s 2ms/step - loss: 138.8271 - mae: 139.3266 - lr: 1.7783e-08\n",
            "Epoch 7/100\n",
            "2192/2192 [==============================] - 4s 2ms/step - loss: 115.7264 - mae: 116.2258 - lr: 1.9953e-08\n",
            "Epoch 8/100\n",
            "2192/2192 [==============================] - 4s 2ms/step - loss: 98.4237 - mae: 98.9230 - lr: 2.2387e-08\n",
            "Epoch 9/100\n",
            "2192/2192 [==============================] - 4s 2ms/step - loss: 86.6329 - mae: 87.1320 - lr: 2.5119e-08\n",
            "Epoch 10/100\n",
            "2192/2192 [==============================] - 5s 2ms/step - loss: 79.8561 - mae: 80.3547 - lr: 2.8184e-08\n",
            "Epoch 11/100\n",
            "2192/2192 [==============================] - 4s 2ms/step - loss: 75.8844 - mae: 76.3828 - lr: 3.1623e-08\n",
            "Epoch 12/100\n",
            "2192/2192 [==============================] - 4s 2ms/step - loss: 72.5202 - mae: 73.0184 - lr: 3.5481e-08\n",
            "Epoch 13/100\n",
            "2192/2192 [==============================] - 5s 2ms/step - loss: 69.0953 - mae: 69.5933 - lr: 3.9811e-08\n",
            "Epoch 14/100\n",
            "2192/2192 [==============================] - 3s 2ms/step - loss: 65.6805 - mae: 66.1783 - lr: 4.4668e-08\n",
            "Epoch 15/100\n",
            "2192/2192 [==============================] - 4s 2ms/step - loss: 62.6696 - mae: 63.1674 - lr: 5.0119e-08\n",
            "Epoch 16/100\n",
            "2192/2192 [==============================] - 4s 2ms/step - loss: 60.2196 - mae: 60.7172 - lr: 5.6234e-08\n",
            "Epoch 17/100\n",
            "2192/2192 [==============================] - 4s 2ms/step - loss: 58.3956 - mae: 58.8932 - lr: 6.3096e-08\n",
            "Epoch 18/100\n",
            "2192/2192 [==============================] - 4s 2ms/step - loss: 57.0778 - mae: 57.5754 - lr: 7.0795e-08\n",
            "Epoch 19/100\n",
            "2192/2192 [==============================] - 3s 2ms/step - loss: 56.1031 - mae: 56.6007 - lr: 7.9433e-08\n",
            "Epoch 20/100\n",
            "2192/2192 [==============================] - 3s 2ms/step - loss: 55.3095 - mae: 55.8073 - lr: 8.9125e-08\n",
            "Epoch 21/100\n",
            "2192/2192 [==============================] - 3s 2ms/step - loss: 54.6299 - mae: 55.1275 - lr: 1.0000e-07\n",
            "Epoch 22/100\n",
            "2192/2192 [==============================] - 3s 2ms/step - loss: 54.0754 - mae: 54.5731 - lr: 1.1220e-07\n",
            "Epoch 23/100\n",
            "2192/2192 [==============================] - 3s 2ms/step - loss: 53.5886 - mae: 54.0863 - lr: 1.2589e-07\n",
            "Epoch 24/100\n",
            "2192/2192 [==============================] - 3s 2ms/step - loss: 53.0933 - mae: 53.5908 - lr: 1.4125e-07\n",
            "Epoch 25/100\n",
            "2192/2192 [==============================] - 4s 2ms/step - loss: 52.5692 - mae: 53.0667 - lr: 1.5849e-07\n",
            "Epoch 26/100\n",
            "2192/2192 [==============================] - 3s 2ms/step - loss: 51.9925 - mae: 52.4899 - lr: 1.7783e-07\n",
            "Epoch 27/100\n",
            "2192/2192 [==============================] - 4s 2ms/step - loss: 51.3384 - mae: 51.8358 - lr: 1.9953e-07\n",
            "Epoch 28/100\n",
            "2192/2192 [==============================] - 3s 2ms/step - loss: 50.5273 - mae: 51.0246 - lr: 2.2387e-07\n",
            "Epoch 29/100\n",
            "2192/2192 [==============================] - 4s 2ms/step - loss: 49.5617 - mae: 50.0588 - lr: 2.5119e-07\n",
            "Epoch 30/100\n",
            "2192/2192 [==============================] - 4s 2ms/step - loss: 48.4843 - mae: 48.9815 - lr: 2.8184e-07\n",
            "Epoch 31/100\n",
            "2192/2192 [==============================] - 4s 2ms/step - loss: 47.2504 - mae: 47.7473 - lr: 3.1623e-07\n",
            "Epoch 32/100\n",
            "2192/2192 [==============================] - 4s 2ms/step - loss: 45.6864 - mae: 46.1833 - lr: 3.5481e-07\n",
            "Epoch 33/100\n",
            "2192/2192 [==============================] - 3s 2ms/step - loss: 43.9122 - mae: 44.4087 - lr: 3.9811e-07\n",
            "Epoch 34/100\n",
            "2192/2192 [==============================] - 3s 2ms/step - loss: 42.0247 - mae: 42.5211 - lr: 4.4668e-07\n",
            "Epoch 35/100\n",
            "2192/2192 [==============================] - 4s 2ms/step - loss: 40.4377 - mae: 40.9337 - lr: 5.0119e-07\n",
            "Epoch 36/100\n",
            "2192/2192 [==============================] - 4s 2ms/step - loss: 39.3403 - mae: 39.8359 - lr: 5.6234e-07\n",
            "Epoch 37/100\n",
            "2192/2192 [==============================] - 4s 2ms/step - loss: 38.7288 - mae: 39.2248 - lr: 6.3096e-07\n",
            "Epoch 38/100\n",
            "2192/2192 [==============================] - 4s 2ms/step - loss: 38.3414 - mae: 38.8370 - lr: 7.0795e-07\n",
            "Epoch 39/100\n",
            "2192/2192 [==============================] - 4s 2ms/step - loss: 38.0549 - mae: 38.5507 - lr: 7.9433e-07\n",
            "Epoch 40/100\n",
            "2192/2192 [==============================] - 4s 2ms/step - loss: 37.7922 - mae: 38.2879 - lr: 8.9125e-07\n",
            "Epoch 41/100\n",
            "2192/2192 [==============================] - 4s 2ms/step - loss: 37.5473 - mae: 38.0432 - lr: 1.0000e-06\n",
            "Epoch 42/100\n",
            "2192/2192 [==============================] - 4s 2ms/step - loss: 37.3023 - mae: 37.7977 - lr: 1.1220e-06\n",
            "Epoch 43/100\n",
            "2192/2192 [==============================] - 4s 2ms/step - loss: 37.0221 - mae: 37.5177 - lr: 1.2589e-06\n",
            "Epoch 44/100\n",
            "2192/2192 [==============================] - 4s 2ms/step - loss: 36.6968 - mae: 37.1923 - lr: 1.4125e-06\n",
            "Epoch 45/100\n",
            "2192/2192 [==============================] - 4s 2ms/step - loss: 36.3550 - mae: 36.8504 - lr: 1.5849e-06\n",
            "Epoch 46/100\n",
            "2192/2192 [==============================] - 4s 2ms/step - loss: 35.9674 - mae: 36.4628 - lr: 1.7783e-06\n",
            "Epoch 47/100\n",
            "2192/2192 [==============================] - 4s 2ms/step - loss: 35.5880 - mae: 36.0833 - lr: 1.9953e-06\n",
            "Epoch 48/100\n",
            "2192/2192 [==============================] - 4s 2ms/step - loss: 35.1953 - mae: 35.6904 - lr: 2.2387e-06\n",
            "Epoch 49/100\n",
            "2192/2192 [==============================] - 4s 2ms/step - loss: 34.8242 - mae: 35.3192 - lr: 2.5119e-06\n",
            "Epoch 50/100\n",
            "2192/2192 [==============================] - 4s 2ms/step - loss: 34.2815 - mae: 34.7767 - lr: 2.8184e-06\n",
            "Epoch 51/100\n",
            "2192/2192 [==============================] - 4s 2ms/step - loss: 33.8006 - mae: 34.2959 - lr: 3.1623e-06\n",
            "Epoch 52/100\n",
            "2192/2192 [==============================] - 3s 2ms/step - loss: 33.0140 - mae: 33.5093 - lr: 3.5481e-06\n",
            "Epoch 53/100\n",
            "2192/2192 [==============================] - 4s 2ms/step - loss: 32.1427 - mae: 32.6377 - lr: 3.9811e-06\n",
            "Epoch 54/100\n",
            "2192/2192 [==============================] - 4s 2ms/step - loss: 30.8308 - mae: 31.3257 - lr: 4.4668e-06\n",
            "Epoch 55/100\n",
            "2192/2192 [==============================] - 4s 2ms/step - loss: 30.1444 - mae: 30.6389 - lr: 5.0119e-06\n",
            "Epoch 56/100\n",
            "2192/2192 [==============================] - 4s 2ms/step - loss: 29.8608 - mae: 30.3553 - lr: 5.6234e-06\n",
            "Epoch 57/100\n",
            "2192/2192 [==============================] - 4s 2ms/step - loss: 29.5149 - mae: 30.0090 - lr: 6.3096e-06\n",
            "Epoch 58/100\n",
            "2192/2192 [==============================] - 3s 2ms/step - loss: 29.3941 - mae: 29.8881 - lr: 7.0795e-06\n",
            "Epoch 59/100\n",
            "2192/2192 [==============================] - 4s 2ms/step - loss: 29.1378 - mae: 29.6321 - lr: 7.9433e-06\n",
            "Epoch 60/100\n",
            "2192/2192 [==============================] - 4s 2ms/step - loss: 29.1460 - mae: 29.6396 - lr: 8.9125e-06\n",
            "Epoch 61/100\n",
            "2192/2192 [==============================] - 4s 2ms/step - loss: 28.8534 - mae: 29.3469 - lr: 1.0000e-05\n",
            "Epoch 62/100\n",
            "2192/2192 [==============================] - 3s 2ms/step - loss: 28.7820 - mae: 29.2759 - lr: 1.1220e-05\n",
            "Epoch 63/100\n",
            "2192/2192 [==============================] - 3s 2ms/step - loss: 28.8341 - mae: 29.3279 - lr: 1.2589e-05\n",
            "Epoch 64/100\n",
            "2192/2192 [==============================] - 3s 2ms/step - loss: 28.7636 - mae: 29.2573 - lr: 1.4125e-05\n",
            "Epoch 65/100\n",
            "2192/2192 [==============================] - 4s 2ms/step - loss: 28.7372 - mae: 29.2309 - lr: 1.5849e-05\n",
            "Epoch 66/100\n",
            "2192/2192 [==============================] - 4s 2ms/step - loss: 28.6326 - mae: 29.1263 - lr: 1.7783e-05\n",
            "Epoch 67/100\n",
            "2192/2192 [==============================] - 4s 2ms/step - loss: 28.6596 - mae: 29.1532 - lr: 1.9953e-05\n",
            "Epoch 68/100\n",
            "2192/2192 [==============================] - 3s 2ms/step - loss: 28.4757 - mae: 28.9694 - lr: 2.2387e-05\n",
            "Epoch 69/100\n",
            "2192/2192 [==============================] - 4s 2ms/step - loss: 28.3764 - mae: 28.8698 - lr: 2.5119e-05\n",
            "Epoch 70/100\n",
            "2192/2192 [==============================] - 4s 2ms/step - loss: 28.3829 - mae: 28.8763 - lr: 2.8184e-05\n",
            "Epoch 71/100\n",
            "2192/2192 [==============================] - 3s 2ms/step - loss: 28.3724 - mae: 28.8655 - lr: 3.1623e-05\n",
            "Epoch 72/100\n",
            "2192/2192 [==============================] - 3s 2ms/step - loss: 28.3280 - mae: 28.8212 - lr: 3.5481e-05\n",
            "Epoch 73/100\n",
            "2192/2192 [==============================] - 3s 2ms/step - loss: 28.2658 - mae: 28.7593 - lr: 3.9811e-05\n",
            "Epoch 74/100\n",
            "2192/2192 [==============================] - 3s 2ms/step - loss: 28.3081 - mae: 28.8014 - lr: 4.4668e-05\n",
            "Epoch 75/100\n",
            "2192/2192 [==============================] - 4s 2ms/step - loss: 28.3256 - mae: 28.8189 - lr: 5.0119e-05\n",
            "Epoch 76/100\n",
            "2192/2192 [==============================] - 4s 2ms/step - loss: 28.2862 - mae: 28.7796 - lr: 5.6234e-05\n",
            "Epoch 77/100\n",
            "2192/2192 [==============================] - 4s 2ms/step - loss: 28.3376 - mae: 28.8310 - lr: 6.3096e-05\n",
            "Epoch 78/100\n",
            "2192/2192 [==============================] - 3s 2ms/step - loss: 28.2550 - mae: 28.7487 - lr: 7.0795e-05\n",
            "Epoch 79/100\n",
            "2192/2192 [==============================] - 4s 2ms/step - loss: 28.4018 - mae: 28.8955 - lr: 7.9433e-05\n",
            "Epoch 80/100\n",
            "2192/2192 [==============================] - 4s 2ms/step - loss: 28.3398 - mae: 28.8334 - lr: 8.9125e-05\n",
            "Epoch 81/100\n",
            "2192/2192 [==============================] - 4s 2ms/step - loss: 28.3909 - mae: 28.8844 - lr: 1.0000e-04\n",
            "Epoch 82/100\n",
            "2192/2192 [==============================] - 3s 2ms/step - loss: 28.6323 - mae: 29.1262 - lr: 1.1220e-04\n",
            "Epoch 83/100\n",
            "2192/2192 [==============================] - 4s 2ms/step - loss: 28.4697 - mae: 28.9632 - lr: 1.2589e-04\n",
            "Epoch 84/100\n",
            "2192/2192 [==============================] - 4s 2ms/step - loss: 28.6097 - mae: 29.1036 - lr: 1.4125e-04\n",
            "Epoch 85/100\n",
            "2192/2192 [==============================] - 4s 2ms/step - loss: 28.6828 - mae: 29.1765 - lr: 1.5849e-04\n",
            "Epoch 86/100\n",
            "2192/2192 [==============================] - 3s 2ms/step - loss: 28.8493 - mae: 29.3427 - lr: 1.7783e-04\n",
            "Epoch 87/100\n",
            "2192/2192 [==============================] - 3s 2ms/step - loss: 29.0173 - mae: 29.5112 - lr: 1.9953e-04\n",
            "Epoch 88/100\n",
            "2192/2192 [==============================] - 3s 2ms/step - loss: 28.9943 - mae: 29.4881 - lr: 2.2387e-04\n",
            "Epoch 89/100\n",
            "2192/2192 [==============================] - 4s 2ms/step - loss: 29.4152 - mae: 29.9094 - lr: 2.5119e-04\n",
            "Epoch 90/100\n",
            "2192/2192 [==============================] - 4s 2ms/step - loss: 29.3552 - mae: 29.8492 - lr: 2.8184e-04\n",
            "Epoch 91/100\n",
            "2192/2192 [==============================] - 4s 2ms/step - loss: 29.9607 - mae: 30.4549 - lr: 3.1623e-04\n",
            "Epoch 92/100\n",
            "2192/2192 [==============================] - 4s 2ms/step - loss: 30.1796 - mae: 30.6740 - lr: 3.5481e-04\n",
            "Epoch 93/100\n",
            "2192/2192 [==============================] - 4s 2ms/step - loss: 30.3244 - mae: 30.8186 - lr: 3.9811e-04\n",
            "Epoch 94/100\n",
            "2192/2192 [==============================] - 4s 2ms/step - loss: 30.6929 - mae: 31.1875 - lr: 4.4668e-04\n",
            "Epoch 95/100\n",
            "2192/2192 [==============================] - 4s 2ms/step - loss: 31.1136 - mae: 31.6082 - lr: 5.0119e-04\n",
            "Epoch 96/100\n",
            "2192/2192 [==============================] - 4s 2ms/step - loss: 32.4139 - mae: 32.9089 - lr: 5.6234e-04\n",
            "Epoch 97/100\n",
            "2192/2192 [==============================] - 4s 2ms/step - loss: 33.5546 - mae: 34.0497 - lr: 6.3096e-04\n",
            "Epoch 98/100\n",
            "2192/2192 [==============================] - 5s 2ms/step - loss: 34.0328 - mae: 34.5280 - lr: 7.0795e-04\n",
            "Epoch 99/100\n",
            "2192/2192 [==============================] - 4s 2ms/step - loss: 34.1866 - mae: 34.6821 - lr: 7.9433e-04\n",
            "Epoch 100/100\n",
            "2192/2192 [==============================] - 4s 2ms/step - loss: 36.7227 - mae: 37.2188 - lr: 8.9125e-04\n"
          ]
        },
        {
          "output_type": "execute_result",
          "data": {
            "text/plain": [
              "<keras.callbacks.History at 0x7f67a97f9050>"
            ]
          },
          "metadata": {},
          "execution_count": 73
        }
      ]
    },
    {
      "cell_type": "code",
      "source": [
        "optimizer = tf.keras.optimizers.SGD(learning_rate=1e-4, momentum=0.9)\n",
        "model.compile(optimizer=optimizer, loss=tf.keras.losses.Huber(), metrics=['mae'])\n",
        "\n",
        "model.fit(train_x, train_y, epochs=50, callbacks=[lr_schedule])"
      ],
      "metadata": {
        "colab": {
          "base_uri": "https://localhost:8080/"
        },
        "id": "KydJ5fW2Z2po",
        "outputId": "dac8e7ae-4352-47eb-9a6b-1cbf634301d4"
      },
      "execution_count": null,
      "outputs": [
        {
          "output_type": "stream",
          "name": "stdout",
          "text": [
            "Epoch 1/50\n",
            "2192/2192 [==============================] - 4s 2ms/step - loss: 30.5088 - mae: 31.0031 - lr: 1.0000e-08\n",
            "Epoch 2/50\n",
            "2192/2192 [==============================] - 4s 2ms/step - loss: 30.4611 - mae: 30.9556 - lr: 1.1220e-08\n",
            "Epoch 3/50\n",
            "2192/2192 [==============================] - 4s 2ms/step - loss: 30.4112 - mae: 30.9056 - lr: 1.2589e-08\n",
            "Epoch 4/50\n",
            "2192/2192 [==============================] - 4s 2ms/step - loss: 30.3592 - mae: 30.8537 - lr: 1.4125e-08\n",
            "Epoch 5/50\n",
            "2192/2192 [==============================] - 3s 2ms/step - loss: 30.3059 - mae: 30.8004 - lr: 1.5849e-08\n",
            "Epoch 6/50\n",
            "2192/2192 [==============================] - 4s 2ms/step - loss: 30.2510 - mae: 30.7456 - lr: 1.7783e-08\n",
            "Epoch 7/50\n",
            "2192/2192 [==============================] - 4s 2ms/step - loss: 30.1948 - mae: 30.6894 - lr: 1.9953e-08\n",
            "Epoch 8/50\n",
            "2192/2192 [==============================] - 5s 2ms/step - loss: 30.1379 - mae: 30.6323 - lr: 2.2387e-08\n",
            "Epoch 9/50\n",
            "2192/2192 [==============================] - 3s 2ms/step - loss: 30.0801 - mae: 30.5745 - lr: 2.5119e-08\n",
            "Epoch 10/50\n",
            "2192/2192 [==============================] - 4s 2ms/step - loss: 30.0212 - mae: 30.5156 - lr: 2.8184e-08\n",
            "Epoch 11/50\n",
            "2192/2192 [==============================] - 4s 2ms/step - loss: 29.9610 - mae: 30.4555 - lr: 3.1623e-08\n",
            "Epoch 12/50\n",
            "2192/2192 [==============================] - 4s 2ms/step - loss: 29.8993 - mae: 30.3937 - lr: 3.5481e-08\n",
            "Epoch 13/50\n",
            "2192/2192 [==============================] - 3s 2ms/step - loss: 29.8362 - mae: 30.3306 - lr: 3.9811e-08\n",
            "Epoch 14/50\n",
            "2192/2192 [==============================] - 3s 2ms/step - loss: 29.7716 - mae: 30.2659 - lr: 4.4668e-08\n",
            "Epoch 15/50\n",
            "2192/2192 [==============================] - 3s 2ms/step - loss: 29.7050 - mae: 30.1995 - lr: 5.0119e-08\n",
            "Epoch 16/50\n",
            "2192/2192 [==============================] - 4s 2ms/step - loss: 29.6367 - mae: 30.1309 - lr: 5.6234e-08\n",
            "Epoch 17/50\n",
            "2192/2192 [==============================] - 3s 2ms/step - loss: 29.5665 - mae: 30.0608 - lr: 6.3096e-08\n",
            "Epoch 18/50\n",
            "2192/2192 [==============================] - 3s 2ms/step - loss: 29.4943 - mae: 29.9885 - lr: 7.0795e-08\n",
            "Epoch 19/50\n",
            "2192/2192 [==============================] - 4s 2ms/step - loss: 29.4185 - mae: 29.9125 - lr: 7.9433e-08\n",
            "Epoch 20/50\n",
            "2192/2192 [==============================] - 4s 2ms/step - loss: 29.3208 - mae: 29.8146 - lr: 8.9125e-08\n",
            "Epoch 21/50\n",
            "2192/2192 [==============================] - 4s 2ms/step - loss: 29.1702 - mae: 29.6640 - lr: 1.0000e-07\n",
            "Epoch 22/50\n",
            "2192/2192 [==============================] - 4s 2ms/step - loss: 29.0348 - mae: 29.5287 - lr: 1.1220e-07\n",
            "Epoch 23/50\n",
            "2192/2192 [==============================] - 4s 2ms/step - loss: 28.9171 - mae: 29.4107 - lr: 1.2589e-07\n",
            "Epoch 24/50\n",
            "2192/2192 [==============================] - 3s 2ms/step - loss: 28.8108 - mae: 29.3044 - lr: 1.4125e-07\n",
            "Epoch 25/50\n",
            "2192/2192 [==============================] - 3s 2ms/step - loss: 28.7154 - mae: 29.2087 - lr: 1.5849e-07\n",
            "Epoch 26/50\n",
            "2192/2192 [==============================] - 3s 2ms/step - loss: 28.6291 - mae: 29.1225 - lr: 1.7783e-07\n",
            "Epoch 27/50\n",
            "2192/2192 [==============================] - 3s 2ms/step - loss: 28.5486 - mae: 29.0419 - lr: 1.9953e-07\n",
            "Epoch 28/50\n",
            "2192/2192 [==============================] - 4s 2ms/step - loss: 28.4683 - mae: 28.9614 - lr: 2.2387e-07\n",
            "Epoch 29/50\n",
            "2192/2192 [==============================] - 4s 2ms/step - loss: 28.3863 - mae: 28.8797 - lr: 2.5119e-07\n",
            "Epoch 30/50\n",
            "2192/2192 [==============================] - 4s 2ms/step - loss: 28.3032 - mae: 28.7965 - lr: 2.8184e-07\n",
            "Epoch 31/50\n",
            "2192/2192 [==============================] - 3s 2ms/step - loss: 28.2211 - mae: 28.7144 - lr: 3.1623e-07\n",
            "Epoch 32/50\n",
            "2192/2192 [==============================] - 3s 2ms/step - loss: 28.1384 - mae: 28.6315 - lr: 3.5481e-07\n",
            "Epoch 33/50\n",
            "2192/2192 [==============================] - 3s 2ms/step - loss: 28.0566 - mae: 28.5498 - lr: 3.9811e-07\n",
            "Epoch 34/50\n",
            "2192/2192 [==============================] - 4s 2ms/step - loss: 27.9763 - mae: 28.4693 - lr: 4.4668e-07\n",
            "Epoch 35/50\n",
            "2192/2192 [==============================] - 3s 2ms/step - loss: 27.8950 - mae: 28.3879 - lr: 5.0119e-07\n",
            "Epoch 36/50\n",
            "2192/2192 [==============================] - 4s 2ms/step - loss: 27.8010 - mae: 28.2941 - lr: 5.6234e-07\n",
            "Epoch 37/50\n",
            "2192/2192 [==============================] - 3s 2ms/step - loss: 27.7048 - mae: 28.1974 - lr: 6.3096e-07\n",
            "Epoch 38/50\n",
            "2192/2192 [==============================] - 3s 2ms/step - loss: 27.6152 - mae: 28.1080 - lr: 7.0795e-07\n",
            "Epoch 39/50\n",
            "2192/2192 [==============================] - 3s 2ms/step - loss: 27.5408 - mae: 28.0334 - lr: 7.9433e-07\n",
            "Epoch 40/50\n",
            "2192/2192 [==============================] - 3s 2ms/step - loss: 27.4796 - mae: 27.9725 - lr: 8.9125e-07\n",
            "Epoch 41/50\n",
            "2192/2192 [==============================] - 4s 2ms/step - loss: 27.4233 - mae: 27.9161 - lr: 1.0000e-06\n",
            "Epoch 42/50\n",
            "2192/2192 [==============================] - 4s 2ms/step - loss: 27.3695 - mae: 27.8621 - lr: 1.1220e-06\n",
            "Epoch 43/50\n",
            "2192/2192 [==============================] - 3s 2ms/step - loss: 27.3057 - mae: 27.7983 - lr: 1.2589e-06\n",
            "Epoch 44/50\n",
            "2192/2192 [==============================] - 3s 2ms/step - loss: 27.2474 - mae: 27.7399 - lr: 1.4125e-06\n",
            "Epoch 45/50\n",
            "2192/2192 [==============================] - 4s 2ms/step - loss: 27.1968 - mae: 27.6891 - lr: 1.5849e-06\n",
            "Epoch 46/50\n",
            "2192/2192 [==============================] - 4s 2ms/step - loss: 27.1509 - mae: 27.6434 - lr: 1.7783e-06\n",
            "Epoch 47/50\n",
            "2192/2192 [==============================] - 4s 2ms/step - loss: 27.1080 - mae: 27.6003 - lr: 1.9953e-06\n",
            "Epoch 48/50\n",
            "2192/2192 [==============================] - 4s 2ms/step - loss: 27.0665 - mae: 27.5591 - lr: 2.2387e-06\n",
            "Epoch 49/50\n",
            "2192/2192 [==============================] - 4s 2ms/step - loss: 27.0281 - mae: 27.5207 - lr: 2.5119e-06\n",
            "Epoch 50/50\n",
            "2192/2192 [==============================] - 3s 2ms/step - loss: 26.9919 - mae: 27.4843 - lr: 2.8184e-06\n"
          ]
        },
        {
          "output_type": "execute_result",
          "data": {
            "text/plain": [
              "<keras.callbacks.History at 0x7f67aa5e0090>"
            ]
          },
          "metadata": {},
          "execution_count": 76
        }
      ]
    },
    {
      "cell_type": "code",
      "source": [
        "y_predict = model.predict(test_x)"
      ],
      "metadata": {
        "id": "uqYzE5ibZ1jW"
      },
      "execution_count": null,
      "outputs": []
    },
    {
      "cell_type": "code",
      "source": [
        "\n",
        "with open(\"./drive/MyDrive/TPS9/result.csv\",'w') as file:\n",
        "  writer = csv.writer(file)\n",
        "  writer.writerow(['row_id','num_sold'])\n",
        "  for i in range(0, y_predict.shape[0]):\n",
        "    writer.writerow([i+70128,y_predict[i][0]])"
      ],
      "metadata": {
        "id": "f16oNNUKclWP"
      },
      "execution_count": null,
      "outputs": []
    },
    {
      "cell_type": "code",
      "source": [
        "model.summary()"
      ],
      "metadata": {
        "id": "8ggMCP8JlFHB",
        "outputId": "7738dbff-277d-4f6c-9111-6f5e8619e494",
        "colab": {
          "base_uri": "https://localhost:8080/"
        }
      },
      "execution_count": null,
      "outputs": [
        {
          "output_type": "stream",
          "name": "stdout",
          "text": [
            "Model: \"sequential_4\"\n",
            "_________________________________________________________________\n",
            " Layer (type)                Output Shape              Param #   \n",
            "=================================================================\n",
            " flatten_4 (Flatten)         (None, 4)                 0         \n",
            "                                                                 \n",
            " dense_20 (Dense)            (None, 128)               640       \n",
            "                                                                 \n",
            " dense_21 (Dense)            (None, 64)                8256      \n",
            "                                                                 \n",
            " dense_22 (Dense)            (None, 32)                2080      \n",
            "                                                                 \n",
            " dense_23 (Dense)            (None, 16)                528       \n",
            "                                                                 \n",
            " dense_24 (Dense)            (None, 1)                 17        \n",
            "                                                                 \n",
            " lambda_4 (Lambda)           (None, 1)                 0         \n",
            "                                                                 \n",
            "=================================================================\n",
            "Total params: 11,521\n",
            "Trainable params: 11,521\n",
            "Non-trainable params: 0\n",
            "_________________________________________________________________\n"
          ]
        }
      ]
    },
    {
      "cell_type": "code",
      "source": [
        "train_plt = []\n",
        "for i in range(0,train.shape[0],48):\n",
        "  train_plt.append(train.loc[i,'num_sold'])\n",
        "\n",
        "time = np.arange(1,len(train_plt)+1)\n",
        "train_plt = np.array(train_plt)\n",
        "\n",
        "plot_series(time, train_plt)\n"
      ],
      "metadata": {
        "colab": {
          "base_uri": "https://localhost:8080/",
          "height": 280
        },
        "id": "ZTDCq3zO0QBv",
        "outputId": "af73227f-dcc1-4a7c-820e-fb580f2f88ba"
      },
      "execution_count": null,
      "outputs": [
        {
          "output_type": "display_data",
          "data": {
            "text/plain": [
              "<Figure size 432x288 with 1 Axes>"
            ],
            "image/png": "[encoded data removed]"
          },
          "metadata": {
            "needs_background": "light"
          }
        }
      ]
    },
    {
      "cell_type": "code",
      "source": [],
      "metadata": {
        "id": "e1ISNgOJ3l37"
      },
      "execution_count": null,
      "outputs": []
    }
  ]
}